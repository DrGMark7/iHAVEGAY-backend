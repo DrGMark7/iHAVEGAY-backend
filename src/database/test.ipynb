{
<<<<<<< HEAD
 "cells": [
  {
   "cell_type": "code",
   "execution_count": 1,
   "metadata": {},
   "outputs": [],
   "source": [
    "import os\n",
    "from dotenv import load_dotenv\n",
    "from pymongo import MongoClient"
   ]
  },
  {
   "cell_type": "code",
   "execution_count": 3,
   "metadata": {},
   "outputs": [],
   "source": [
    "load_dotenv()\n",
    "\n",
    "MONGO_URI = os.getenv('MONGO_URI')\n",
    "\n",
    "client = MongoClient(MONGO_URI)\n",
    "db = client['mydatabase']\n",
    "collection = db['CPUs']"
   ]
  },
  {
   "cell_type": "code",
   "execution_count": 10,
   "metadata": {},
   "outputs": [
    {
     "name": "stdout",
     "output_type": "stream",
     "text": [
      "{'cpu_id': 10001, 'title': 'AMD RYZEN 5 5600X 3.7 GHz (SOCKET AM4)', 'price': 4890, 'Socket': 'AM4', 'brand': 'AMD', 'imgUrl': 'https://www.jib.co.th/img_master/product/medium/20210825104649_43471_21_2.jpg'}\n",
      "{'cpu_id': 10002, 'title': 'INTEL CORE I5-12400F 2.5 GHz (SOCKET LGA 1700)', 'price': 3840, 'Socket': '1700', 'brand': 'Intel', 'imgUrl': 'https://www.jib.co.th/img_master/product/medium/2022010509243450623_1.jpg'}\n",
      "{'cpu_id': 10003, 'title': 'INTEL CORE I5-10400F 2.9 GHz (SOCKET LGA 1200)', 'price': 3660, 'Socket': '1200', 'brand': 'Intel', 'imgUrl': 'https://www.jib.co.th/img_master/product/medium/2020060310001739905_1.png'}\n",
      "{'cpu_id': 10004, 'title': 'INTEL CORE I5-10400 2.9 GHz (SOCKET LGA 1200)', 'price': 4590, 'Socket': '1200', 'brand': 'Intel', 'imgUrl': 'https://www.jib.co.th/img_master/product/medium/2020051316574639061_1.png'}\n",
      "{'cpu_id': 10005, 'title': 'INTEL CORE I5-13500 - 14C 20T 1.8-4.8GHz (INTEL SOCKET 1700)', 'price': 8690, 'Socket': '1700', 'brand': 'Intel', 'imgUrl': 'https://www.jib.co.th/img_master/product/medium/2022122610182056974_1.jpg'}\n",
      "{'cpu_id': 10006, 'title': 'INTEL CORE I3-12100F 3.3 GHz (SOCKET LGA 1700)', 'price': 2850, 'Socket': '1700', 'brand': 'Intel', 'imgUrl': 'https://www.jib.co.th/img_master/product/medium/2022010508500650622_1.jpg'}\n",
      "{'cpu_id': 10007, 'title': 'AMD RYZEN 3 3200G 3.6 GHz (SOCKET AM4)', 'price': 1990, 'Socket': 'AM4', 'brand': 'AMD', 'imgUrl': 'https://www.jib.co.th/img_master/product/medium/20210827130806_34578_23_1.jpg'}\n",
      "{'cpu_id': 10008, 'title': 'AMD RYZEN 5 3400G 3.7 GHz (SOCKET AM4)', 'price': 2890, 'Socket': 'AM4', 'brand': 'AMD', 'imgUrl': 'https://www.jib.co.th/img_master/product/medium/20191120170459_34586_24_1.png'}\n",
      "{'cpu_id': 10009, 'title': 'AMD RYZEN 5 5600G 3.9 GHz (SOCKET AM4)', 'price': 4890, 'Socket': 'AM4', 'brand': 'AMD', 'imgUrl': 'https://www.jib.co.th/img_master/product/medium/20210825151834_47944_21_1.jpg'}\n",
      "{'cpu_id': 10010, 'title': 'INTEL CORE I5-12400 2.5 GHz (SOCKET LGA 1700)', 'price': 4980, 'Socket': '1700', 'brand': 'Intel', 'imgUrl': 'https://www.jib.co.th/img_master/product/medium/2022010509312850624_1.jpg'}\n",
      "{'cpu_id': 10011, 'title': 'AMD RYZEN 7 7800X3D 4.2 GHz (SOCKET AM5) (ระบบระบายความร้อนไม่รวมอยู่ในสินค้า / CPU COOLER NOT INCLUDED)', 'price': 17900, 'Socket': 'AM5', 'brand': 'AMD', 'imgUrl': 'https://www.jib.co.th/img_master/product/medium/2023041914270158961_1.jpg'}\n",
      "{'cpu_id': 10012, 'title': 'INTEL CORE I5-13400F - 10C 16T 1.8-4.6GHz (INTEL SOCKET 1700)', 'price': 5290, 'Socket': '1700', 'brand': 'Intel', 'imgUrl': 'https://www.jib.co.th/img_master/product/medium/2022122610011856972_1.jpg'}\n",
      "{'cpu_id': 10013, 'title': 'INTEL CORE I3-10105F 3.7 GHz (SOCKET LGA 1200)', 'price': 2490, 'Socket': '1200', 'brand': 'Intel', 'imgUrl': 'https://www.jib.co.th/img_master/product/medium/2021033109120546086_1.jpg'}\n",
      "{'cpu_id': 10014, 'title': 'AMD RYZEN 7 5700G 3.8 GHz (SOCKET AM4)', 'price': 7290, 'Socket': 'AM4', 'brand': 'AMD', 'imgUrl': 'https://www.jib.co.th/img_master/product/medium/20210825152410_47945_21_2.jpg'}\n",
      "{'cpu_id': 10015, 'title': 'AMD RYZEN 5 5600 3.5 GHz (SOCKET AM4)', 'price': 3690, 'Socket': 'AM4', 'brand': 'AMD', 'imgUrl': 'https://www.jib.co.th/img_master/product/medium/2022040514151552538_1.jpg'}\n",
      "{'cpu_id': 10016, 'title': 'INTEL CORE I7-12700K 3.6 GHz (SOCKET LGA 1700) (ระบบระบายความร้อนไม่รวมอยู่ในสินค้า / CPU COOLER NOT INCLUDED)', 'price': 10400, 'Socket': '1700', 'brand': 'Intel', 'imgUrl': 'https://www.jib.co.th/img_master/product/medium/2021102715324149470_1.png'}\n",
      "{'cpu_id': 10017, 'title': 'AMD ATHLON 3000G 3.5 GHz (SOCKET AM4)', 'price': 1790, 'Socket': 'AM4', 'brand': 'AMD', 'imgUrl': 'https://www.jib.co.th/img_master/product/medium/20210827132430_35827_23_1.jpg'}\n",
      "{'cpu_id': 10018, 'title': 'AMD RYZEN 5 4500 3.6 GHz (SOCKET AM4)', 'price': 2590, 'Socket': 'AM4', 'brand': 'AMD', 'imgUrl': 'https://www.jib.co.th/img_master/product/medium/2022050310524952893_1.jpg'}\n",
      "{'cpu_id': 10019, 'title': 'INTEL CORE I7-13700K - 16C 24T 2.5-5.4GHz (INTEL SOCKET 1700) (ระบบระบายความร้อนไม่รวมอยู่ในสินค้า / CPU COOLER NOT INCLUDED)', 'price': 14900, 'Socket': '1700', 'brand': 'Intel', 'imgUrl': 'https://www.jib.co.th/img_master/product/medium/2022092909541955462_1.jpg'}\n",
      "{'cpu_id': 10020, 'title': 'INTEL CORE I7-12700F 2.1 GHz (SOCKET LGA 1700)', 'price': 9490, 'Socket': '1700', 'brand': 'Intel', 'imgUrl': 'https://www.jib.co.th/img_master/product/medium/2022010510074050627_1.jpg'}\n",
      "{'cpu_id': 10021, 'title': 'AMD RYZEN 5 5500 3.6 GHz (SOCKET AM4)', 'price': 2790, 'Socket': 'AM4', 'brand': 'AMD', 'imgUrl': 'https://www.jib.co.th/img_master/product/medium/2022040514004252535_1.jpg'}\n",
      "{'cpu_id': 10022, 'title': 'INTEL CORE I7-14700K - 20C 28T 2.5-5.6GHz (INTEL SOCKET 1700) (ระบบระบายความร้อนไม่รวมอยู่ในสินค้า / CPU COOLER NOT INCLUDED)', 'price': 14100, 'Socket': '1700', 'brand': 'Intel', 'imgUrl': 'https://www.jib.co.th/img_master/product/medium/2023101615255663038_1.png'}\n",
      "{'cpu_id': 10023, 'title': 'INTEL CORE I7-12700 2.1 GHz (SOCKET LGA 1700)', 'price': 10200, 'Socket': '1700', 'brand': 'Intel', 'imgUrl': 'https://www.jib.co.th/img_master/product/medium/2022011316503150843_1.jpg'}\n",
      "{'cpu_id': 10024, 'title': 'AMD RYZEN 7 5700X 3.4 GHz (SOCKET AM4) (ระบบระบายความร้อนไม่รวมอยู่ในสินค้า / CPU COOLER NOT INCLUDED)', 'price': 7390, 'Socket': 'AM4', 'brand': 'AMD', 'imgUrl': 'https://www.jib.co.th/img_master/product/medium/2022040514204652539_1.jpg'}\n",
      "{'cpu_id': 10025, 'title': 'AMD RYZEN 5 4600G 3.7 GHz (SOCKET AM4)', 'price': 3690, 'Socket': 'AM4', 'brand': 'AMD', 'imgUrl': 'https://www.jib.co.th/img_master/product/medium/20230913163526_53370_344_1.jpg'}\n",
      "{'cpu_id': 10026, 'title': 'INTEL CORE I3-12100 3.3 GHz (SOCKET LGA 1700)', 'price': 3740, 'Socket': '1700', 'brand': 'Intel', 'imgUrl': 'https://www.jib.co.th/img_master/product/medium/2022021010031651545_1.jpg'}\n",
      "{'cpu_id': 10027, 'title': 'INTEL CORE I9-14900K - 24C 32T 2.4-6.0GHz (INTEL SOCKET 1700) (ระบบระบายความร้อนไม่รวมอยู่ในสินค้า / CPU COOLER NOT INCLUDED)', 'price': 18800, 'Socket': '1700', 'brand': 'Intel', 'imgUrl': 'https://www.jib.co.th/img_master/product/medium/2023101615262063040_1.png'}\n",
      "{'cpu_id': 10028, 'title': 'AMD RYZEN 5 7600 3.8 GHz (SOCKET AM5)', 'price': 7790, 'Socket': 'AM5', 'brand': 'AMD', 'imgUrl': 'https://www.jib.co.th/img_master/product/medium/20230111142106_57299_66_1.jpg'}\n",
      "{'cpu_id': 10029, 'title': 'INTEL CORE I5-14500 - 14C 20T 1.9-5.0GHz (INTEL SOCKET 1700)', 'price': 8840, 'Socket': '1700', 'brand': 'Intel', 'imgUrl': 'https://www.jib.co.th/img_master/product/medium/2024010614385764701_1.jpg'}\n",
      "{'cpu_id': 10030, 'title': 'AMD RYZEN 7 7700X 4.5 GHz (SOCKET AM5) (ระบบระบายความร้อนไม่รวมอยู่ในสินค้า / CPU COOLER NOT INCLUDED)', 'price': 11990, 'Socket': 'AM5', 'brand': 'AMD', 'imgUrl': 'https://www.jib.co.th/img_master/product/medium/2022092613123755402_1.jpg'}\n",
      "{'cpu_id': 10031, 'title': 'INTEL CORE I3-10105 3.7 GHz (SOCKET LGA 1200)', 'price': 3390, 'Socket': '1200', 'brand': 'Intel', 'imgUrl': 'https://www.jib.co.th/img_master/product/medium/2021050813585046521_1.png'}\n",
      "{'cpu_id': 10032, 'title': 'INTEL CORE I5-13400 - 10C 16T 1.8-4.6GHz (INTEL SOCKET 1700)', 'price': 6590, 'Socket': '1700', 'brand': 'Intel', 'imgUrl': 'https://www.jib.co.th/img_master/product/medium/2022122609520956970_1.jpg'}\n",
      "{'cpu_id': 10033, 'title': 'AMD RYZEN 9 7950X 4.5 GHz (SOCKET AM5) (ระบบระบายความร้อนไม่รวมอยู่ในสินค้า / CPU COOLER NOT INCLUDED)', 'price': 20990, 'Socket': 'AM5', 'brand': 'AMD', 'imgUrl': 'https://www.jib.co.th/img_master/product/medium/2022092613555155412_1.jpg'}\n",
      "{'cpu_id': 10034, 'title': 'AMD RYZEN 7 5700X3D (SOCKET AM4) (ระบบระบายความร้อนไม่รวมอยู่ในสินค้า / CPU COOLER NOT INCLUDED)', 'price': 9690, 'Socket': 'AM4', 'brand': 'AMD', 'imgUrl': 'https://www.jib.co.th/img_master/product/medium/2024013016262265148_1.jpg'}\n",
      "{'cpu_id': 10035, 'title': 'INTEL CORE I5-14400F - 10C 16T 1.8-4.7GHz (INTEL SOCKET 1700)', 'price': 5790, 'Socket': '1700', 'brand': 'Intel', 'imgUrl': 'https://www.jib.co.th/img_master/product/medium/2024010614561764702_1.jpg'}\n",
      "{'cpu_id': 10036, 'title': 'AMD RYZEN 9 7900X 4.7 GHz (SOCKET AM5) (ระบบระบายความร้อนไม่รวมอยู่ในสินค้า / CPU COOLER NOT INCLUDED)', 'price': 13990, 'Socket': 'AM5', 'brand': 'AMD', 'imgUrl': 'https://www.jib.co.th/img_master/product/medium/2022092613431555409_1.jpg'}\n",
      "{'cpu_id': 10037, 'title': 'INTEL CORE I5-14600K - 14C 20T 2.6-5.3GHz (INTEL SOCKET 1700) (ระบบระบายความร้อนไม่รวมอยู่ในสินค้า / CPU COOLER NOT INCLUDED)', 'price': 9900, 'Socket': '1700', 'brand': 'Intel', 'imgUrl': 'https://www.jib.co.th/img_master/product/medium/2023101615234563036_1.png'}\n",
      "{'cpu_id': 10038, 'title': 'INTEL PENTIUM GOLD G6405 4.1 GHz (SOCKET LGA 1200)', 'price': 2390, 'Socket': '1200', 'brand': 'Intel', 'imgUrl': 'https://www.jib.co.th/img_master/product/medium/20210629133625_47414_66_1.png'}\n",
      "{'cpu_id': 10039, 'title': 'INTEL CORE I3-13100 - 4C 8T 3.4-4.5GHz (INTEL SOCKET 1700)', 'price': 4250, 'Socket': '1700', 'brand': 'Intel', 'imgUrl': 'https://www.jib.co.th/img_master/product/medium/2022122609291156966_1.jpg'}\n",
      "{'cpu_id': 10040, 'title': 'INTEL CORE I3-13100F - 4C 8T 3.4-4.5GHz (INTEL SOCKET 1700)', 'price': 3190, 'Socket': '1700', 'brand': 'Intel', 'imgUrl': 'https://www.jib.co.th/img_master/product/medium/2022122609455856968_1.jpg'}\n",
      "{'cpu_id': 10041, 'title': 'INTEL CORE I7-13700KF - 16C 24T 2.5-5.4GHz (INTEL SOCKET 1700) (ระบบระบายความร้อนไม่รวมอยู่ในสินค้า / CPU COOLER NOT INCLUDED)', 'price': 14500, 'Socket': '1700', 'brand': 'Intel', 'imgUrl': 'https://www.jib.co.th/img_master/product/medium/2022092910030055463_1.jpg'}\n",
      "{'cpu_id': 10042, 'title': 'INTEL CORE I7-14700F - 20C 28T 1.5-5.4GHz (INTEL SOCKET 1700)', 'price': 11400, 'Socket': '1700', 'brand': 'Intel', 'imgUrl': 'https://www.jib.co.th/img_master/product/medium/2024010614174864698_1.jpg'}\n",
      "{'cpu_id': 10043, 'title': 'AMD RYZEN 9 7900 3.7 GHz (SOCKET AM5)', 'price': 14190, 'Socket': 'AM5', 'brand': 'AMD', 'imgUrl': 'https://www.jib.co.th/img_master/product/medium/20230111142142_57303_66_1.jpg'}\n",
      "{'cpu_id': 10044, 'title': 'INTEL CORE I7-14700KF - 20C 28T 2.5-5.6GHz (INTEL SOCKET 1700) (ระบบระบายความร้อนไม่รวมอยู่ในสินค้า / CPU COOLER NOT INCLUDED)', 'price': 12900, 'Socket': '1700', 'brand': 'Intel', 'imgUrl': 'https://www.jib.co.th/img_master/product/medium/2023101615260863039_1.png'}\n",
      "{'cpu_id': 10045, 'title': 'AMD RYZEN 5 8500G (SOCKET AM5)', 'price': 6590, 'Socket': 'AM5', 'brand': 'AMD', 'imgUrl': 'https://www.jib.co.th/img_master/product/medium/2024013116481665211_1.jpg'}\n",
      "{'cpu_id': 10046, 'title': 'AMD RYZEN 9 9950X - 16C 32T 4.3-5.7GHz (AMD SOCKET AM5) (ระบบระบายความร้อนไม่รวมอยู่ในสินค้า / CPU COOLER NOT INCLUDED)', 'price': 24690, 'Socket': 'AM5', 'brand': 'AMD', 'imgUrl': 'https://www.jib.co.th/img_master/product/medium/2024081409110169826_1.jpg'}\n",
      "{'cpu_id': 10047, 'title': 'AMD RYZEN 7 8700G (SOCKET AM5)', 'price': 11090, 'Socket': 'AM5', 'brand': 'AMD', 'imgUrl': 'https://www.jib.co.th/img_master/product/medium/2024013116015665208_1.jpg'}\n",
      "{'cpu_id': 10048, 'title': 'AMD RYZEN 5 8600G (SOCKET AM5)', 'price': 7690, 'Socket': 'AM5', 'brand': 'AMD', 'imgUrl': 'https://www.jib.co.th/img_master/product/medium/2024013116182465209_1.jpg'}\n",
      "{'cpu_id': 10049, 'title': 'AMD RYZEN 7 5700 (SOCKET AM4)', 'price': 5490, 'Socket': 'AM4', 'brand': 'AMD', 'imgUrl': 'https://www.jib.co.th/img_master/product/medium/2024013017025665152_1.jpg'}\n",
      "{'cpu_id': 10050, 'title': 'AMD RYZEN 5 9600X - 6C 12T 3.9-5.4GHz (AMD SOCKET AM5) (ระบบระบายความร้อนไม่รวมอยู่ในสินค้า / CPU COOLER NOT INCLUDED)', 'price': 10190, 'Socket': 'AM5', 'brand': 'AMD', 'imgUrl': 'https://www.jib.co.th/img_master/product/medium/2024080913172569751_1.jpg'}\n",
      "{'cpu_id': 10051, 'title': 'AMD RYZEN 5 7500F - 6C 12T 3.7-5.0GHz (AMD SOCKET AM5)', 'price': 6190, 'Socket': 'AM5', 'brand': 'AMD', 'imgUrl': 'https://www.jib.co.th/img_master/product/medium/20240801150411_69543_66_1.jpg'}\n",
      "{'cpu_id': 10052, 'title': 'INTEL CORE I9-14900KF - 24C 32T 2.4-6.0GHz (INTEL SOCKET 1700) (ระบบระบายความร้อนไม่รวมอยู่ในสินค้า / CPU COOLER NOT INCLUDED)', 'price': 17900, 'Socket': '1700', 'brand': 'Intel', 'imgUrl': 'https://www.jib.co.th/img_master/product/medium/2023101615263263041_1.png'}\n",
      "{'cpu_id': 10053, 'title': 'INTEL CORE ULTRA 7 265K - 20C 20T 3.3-5.5GHz (INTEL SOCKET 1851) (ระบบระบายความร้อนไม่รวมอยู่ในสินค้า / CPU COOLER NOT INCLUDED)', 'price': 14900, 'Socket': '1851', 'brand': 'Intel', 'imgUrl': 'https://www.jib.co.th/img_master/product/medium/2024100909443071188_1.jpg'}\n",
      "{'cpu_id': 10054, 'title': 'INTEL CORE ULTRA 7 265KF - 20C 20T 3.3-5.5GHz (INTEL SOCKET 1851) (ระบบระบายความร้อนไม่รวมอยู่ในสินค้า / CPU COOLER NOT INCLUDED)', 'price': 14300, 'Socket': '1851', 'brand': 'Intel', 'imgUrl': 'https://www.jib.co.th/img_master/product/medium/2024100909485871189_1.jpg'}\n",
      "{'cpu_id': 10055, 'title': 'AMD RYZEN 5 5500GT (SOCKET AM4)', 'price': 4390, 'Socket': 'AM4', 'brand': 'AMD', 'imgUrl': 'https://www.jib.co.th/img_master/product/medium/2024013114435665201_1.JPG'}\n",
      "{'cpu_id': 10056, 'title': 'INTEL CORE I3-14100 - 4C 8T 3.5-4.7GHz (INTEL SOCKET 1700)', 'price': 4190, 'Socket': '1700', 'brand': 'Intel', 'imgUrl': 'https://www.jib.co.th/img_master/product/medium/2024010615511864706_1.jpg'}\n",
      "{'cpu_id': 10057, 'title': 'AMD RYZEN 9 9900X - 12C 24T 4.4-5.6GHz (AMD SOCKET AM5) (ระบบระบายความร้อนไม่รวมอยู่ในสินค้า / CPU COOLER NOT INCLUDED)', 'price': 17490, 'Socket': 'AM5', 'brand': 'AMD', 'imgUrl': 'https://www.jib.co.th/img_master/product/medium/2024081408465069823_1.jpg'}\n",
      "{'cpu_id': 10058, 'title': 'AMD RYZEN 5 8400F - 6C 12T 4.2-4.7GHz (AMD SOCKET AM5)', 'price': 5890, 'Socket': 'AM5', 'brand': 'AMD', 'imgUrl': 'https://www.jib.co.th/img_master/product/medium/2024060511023667749_1.jpg'}\n",
      "{'cpu_id': 10059, 'title': 'INTEL CORE I3-14100F - 4C 8T 3.5-4.7GHz (INTEL SOCKET 1700)', 'price': 3790, 'Socket': '1700', 'brand': 'Intel', 'imgUrl': 'https://www.jib.co.th/img_master/product/medium/2024010615460964705_1.jpg'}\n",
      "{'cpu_id': 10060, 'title': 'AMD RYZEN 5 5600GT (SOCKET AM4)', 'price': 4990, 'Socket': 'AM4', 'brand': 'AMD', 'imgUrl': 'https://www.jib.co.th/img_master/product/medium/2024013114232465197_1.JPG'}\n",
      "{'cpu_id': 10061, 'title': 'AMD RYZEN 7 8700F - 8C 16T 4.1-5.0GHz (AMD SOCKET AM5)', 'price': 9890, 'Socket': 'AM5', 'brand': 'AMD', 'imgUrl': 'https://www.jib.co.th/img_master/product/medium/2024060511522267756_1.jpg'}\n",
      "{'cpu_id': 10062, 'title': 'INTEL CORE ULTRA 5 245KF - 14C 14T 3.6-5.2GHz (INTEL SOCKET 1851) (ระบบระบายความร้อนไม่รวมอยู่ในสินค้า / CPU COOLER NOT INCLUDED)', 'price': 10800, 'Socket': '1851', 'brand': 'Intel', 'imgUrl': 'https://www.jib.co.th/img_master/product/medium/2024100909155571186_1.jpg'}\n",
      "{'cpu_id': 10063, 'title': 'INTEL CORE ULTRA 5 225F - 10C 10T 3.3-4.9GHz (INTEL SOCKET 1851)', 'price': 8990, 'Socket': '1851', 'brand': 'Intel', 'imgUrl': 'https://www.jib.co.th/img_master/product/medium/20250206131531_73576_66_1.jpg'}\n",
      "{'cpu_id': 10064, 'title': 'INTEL CORE ULTRA 5 235 - 14C 14T 3.4-5GHz (INTEL SOCKET 1851)', 'price': 9900, 'Socket': '1851', 'brand': 'Intel', 'imgUrl': 'https://www.jib.co.th/img_master/product/medium/20250206131553_73578_66_1.jpg'}\n",
      "{'cpu_id': 10065, 'title': 'INTEL CORE ULTRA 5 225 - 10C 10T 3.3-4.9GHz (INTEL SOCKET 1851)', 'price': 9590, 'Socket': '1851', 'brand': 'Intel', 'imgUrl': 'https://www.jib.co.th/img_master/product/medium/20250206131508_73573_66_1.jpg'}\n",
      "{'cpu_id': 10066, 'title': 'INTEL CORE ULTRA 7 265 - 20C 20T 1.8-5.3GHz (INTEL SOCKET 1851)', 'price': 15200, 'Socket': '1851', 'brand': 'Intel', 'imgUrl': 'https://www.jib.co.th/img_master/product/medium/2025020614114074210_1.jpg'}\n"
     ]
    }
   ],
   "source": [
    "all_data = collection.find({}, {'_id': 0})\n",
    "for data in all_data:\n",
    "    print(data)"
   ]
  }
 ],
=======
 "cells": [],
>>>>>>> reaw-dev
 "metadata": {
  "kernelspec": {
   "display_name": "Python 3",
   "language": "python",
   "name": "python3"
  },
  "language_info": {
<<<<<<< HEAD
   "codemirror_mode": {
    "name": "ipython",
    "version": 3
   },
   "file_extension": ".py",
   "mimetype": "text/x-python",
   "name": "python",
   "nbconvert_exporter": "python",
   "pygments_lexer": "ipython3",
   "version": "3.11.7"
  },
  "orig_nbformat": 4
=======
   "name": "python",
   "version": "3.11.7"
  }
>>>>>>> reaw-dev
 },
 "nbformat": 4,
 "nbformat_minor": 2
}
